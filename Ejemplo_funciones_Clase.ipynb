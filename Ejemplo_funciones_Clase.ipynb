{
  "nbformat": 4,
  "nbformat_minor": 0,
  "metadata": {
    "colab": {
      "name": "Ejemplo funciones_Clase.ipynb",
      "provenance": [],
      "collapsed_sections": [],
      "toc_visible": true,
      "include_colab_link": true
    },
    "kernelspec": {
      "name": "python3",
      "display_name": "Python 3"
    },
    "language_info": {
      "name": "python"
    }
  },
  "cells": [
    {
      "cell_type": "markdown",
      "metadata": {
        "id": "view-in-github",
        "colab_type": "text"
      },
      "source": [
        "<a href=\"https://colab.research.google.com/github/DK45X/50retosen50dias/blob/master/Ejemplo_funciones_Clase.ipynb\" target=\"_parent\"><img src=\"https://colab.research.google.com/assets/colab-badge.svg\" alt=\"Open In Colab\"/></a>"
      ]
    },
    {
      "cell_type": "markdown",
      "metadata": {
        "id": "8cR-P1iZHb5t"
      },
      "source": [
        "# Cálculo de la \"edad humana de tu perro\"\n",
        "_______\n",
        "\n",
        "Basado en el artículo de **Yates, C. (2020). *Cómo calcular la \"edad humana de tu perro\" (y por qué la regla de los 7 años no funciona)*. BBC NEWS**. Recuperado de https://www.bbc.com/mundo/vert-fut-51135545.\n",
        "_______\n",
        "\n",
        "\n",
        "En una investigación con perros perdigueros de labrador, se estableció la siguiente función:\n",
        "\n",
        "$f(t) = 16\\ln{t}+31$\n",
        "\n",
        "Donde $t$ representa la edad cronológica del perro en años y $f(t)$ representa la edad humana equivalente, también en años.\n",
        "\n"
      ]
    },
    {
      "cell_type": "markdown",
      "metadata": {
        "id": "EGTfdURIHcFi"
      },
      "source": [
        "###a). Definición de la función\n",
        "> Inicialmente se importan de [SymPy](https://www.sympy.org/es/) las funciones necesarias para este ejemplo:\n",
        "\n"
      ]
    },
    {
      "cell_type": "code",
      "metadata": {
        "id": "f6pJ0ldWHsDr"
      },
      "source": [
        ""
      ],
      "execution_count": null,
      "outputs": []
    },
    {
      "cell_type": "markdown",
      "metadata": {
        "id": "b-P6EayWHcPa"
      },
      "source": [
        "> Se crea la variable independiente $t$ usando   ```symbols``` de SymPy. A continuación se puede crear una expresión simbólica para la función de interés."
      ]
    },
    {
      "cell_type": "code",
      "metadata": {
        "id": "vB-iWUGI3qI9"
      },
      "source": [
        ""
      ],
      "execution_count": null,
      "outputs": []
    },
    {
      "cell_type": "markdown",
      "metadata": {
        "id": "uD2Xff02Ii7T"
      },
      "source": [
        "> Con el fin de confirmar que la función se ha definido adecuadamente, se imprime a continuación:"
      ]
    },
    {
      "cell_type": "code",
      "metadata": {
        "id": "5dpQjP-WIm_C"
      },
      "source": [
        ""
      ],
      "execution_count": null,
      "outputs": []
    },
    {
      "cell_type": "markdown",
      "metadata": {
        "id": "p0KqAVc8IrPB"
      },
      "source": [
        "### b). Evaluación de la función en un punto\n",
        "> Suponiendo que se quiere conocer la \"edad humana\" de un perro que tiene **2 años**, se remplaza $t$ por **2**, usando ```subs```:"
      ]
    },
    {
      "cell_type": "code",
      "metadata": {
        "id": "jbxaWcrNIu97"
      },
      "source": [
        ""
      ],
      "execution_count": null,
      "outputs": []
    },
    {
      "cell_type": "markdown",
      "metadata": {
        "id": "vuJ5PZ2KIxF7"
      },
      "source": [
        "###c). Gráfica de la función"
      ]
    },
    {
      "cell_type": "code",
      "metadata": {
        "id": "2-nF6q7o10Pp"
      },
      "source": [
        ""
      ],
      "execution_count": null,
      "outputs": []
    },
    {
      "cell_type": "markdown",
      "metadata": {
        "id": "nCgr-BA7I68C"
      },
      "source": [
        "### d). Análisis del dominio y de la imagen de la función\n",
        "\n",
        "*   ¿Cuál es el dominio de la función?\n",
        "*   ¿Cuál es la imagen?\n",
        "*   En el contexto original del problema, ¿cuál es el mínimo valor que puede tomar t? Explica tu respuesta.\n",
        "\n",
        "\n",
        "\n",
        "\n",
        "\n"
      ]
    }
  ]
}